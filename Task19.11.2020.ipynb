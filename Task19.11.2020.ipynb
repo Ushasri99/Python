{
 "cells": [
  {
   "cell_type": "markdown",
   "metadata": {},
   "source": [
    "Task- List Inbuilt methods"
   ]
  },
  {
   "cell_type": "code",
   "execution_count": 10,
   "metadata": {},
   "outputs": [
    {
     "name": "stdout",
     "output_type": "stream",
     "text": [
      "2\n"
     ]
    }
   ],
   "source": [
    "#count() :returns the number of elements with the specified value.\n",
    "fruits=[\"apple\",\"banana\",\"orange\",\"apple\"]\n",
    "x=fruits.count(\"apple\")\n",
    "print(x)"
   ]
  },
  {
   "cell_type": "code",
   "execution_count": 16,
   "metadata": {},
   "outputs": [
    {
     "name": "stdout",
     "output_type": "stream",
     "text": [
      "['apple', 'orange', 'apple']\n"
     ]
    }
   ],
   "source": [
    "#remove:remove elements from the list\n",
    "fruits=[\"apple\",\"banana\",\"orange\",\"apple\"]\n",
    "fruits.remove(\"banana\")\n",
    "print(fruits)"
   ]
  },
  {
   "cell_type": "code",
   "execution_count": 19,
   "metadata": {},
   "outputs": [
    {
     "name": "stdout",
     "output_type": "stream",
     "text": [
      "[]\n"
     ]
    }
   ],
   "source": [
    "#clear :clear all the elements from the list\n",
    "animals=[\"dog\",\"cat\",\"lion\"]\n",
    "animals.clear()\n",
    "print(animals)"
   ]
  },
  {
   "cell_type": "code",
   "execution_count": 21,
   "metadata": {},
   "outputs": [
    {
     "name": "stdout",
     "output_type": "stream",
     "text": [
      "['cat', 'dog', 'monkey', 'tiger', 'zebra']\n"
     ]
    }
   ],
   "source": [
    "#sort :Sort the list alphabetically\n",
    "animals=[\"zebra\",\"cat\",\"tiger\",\"monkey\",\"dog\"]\n",
    "animals.sort()\n",
    "print(animals)"
   ]
  },
  {
   "cell_type": "code",
   "execution_count": 23,
   "metadata": {},
   "outputs": [
    {
     "name": "stdout",
     "output_type": "stream",
     "text": [
      "['lion', 'cat', 'dog']\n"
     ]
    }
   ],
   "source": [
    "#reverse :Reverse the order of the list:\n",
    "animals=[\"dog\",\"cat\",\"lion\"]\n",
    "animals.reverse()\n",
    "print(animals)\n"
   ]
  },
  {
   "cell_type": "markdown",
   "metadata": {},
   "source": [
    "Task- adding items"
   ]
  },
  {
   "cell_type": "code",
   "execution_count": 95,
   "metadata": {},
   "outputs": [
    {
     "name": "stdout",
     "output_type": "stream",
     "text": [
      "[10, 20, [30, 40, [50, 60], 80], 70, 90, 100]\n"
     ]
    }
   ],
   "source": [
    "list= [10, 20, [30, 40, [50, 60], 80], 90, 100]\n",
    "list.insert(3,70)\n",
    "print(list)"
   ]
  },
  {
   "cell_type": "code",
   "execution_count": 98,
   "metadata": {},
   "outputs": [
    {
     "name": "stdout",
     "output_type": "stream",
     "text": [
      "[1, 2, [3, 4, 5, 6, 7, 8], 9]\n"
     ]
    }
   ],
   "source": [
    "L =[1,2,[3,4,5,6],9]\n",
    "L[2].insert(4,7)\n",
    "L[2].insert(5,8)\n",
    "print(L)"
   ]
  },
  {
   "cell_type": "code",
   "execution_count": null,
   "metadata": {},
   "outputs": [],
   "source": []
  }
 ],
 "metadata": {
  "kernelspec": {
   "display_name": "Python 3",
   "language": "python",
   "name": "python3"
  },
  "language_info": {
   "codemirror_mode": {
    "name": "ipython",
    "version": 3
   },
   "file_extension": ".py",
   "mimetype": "text/x-python",
   "name": "python",
   "nbconvert_exporter": "python",
   "pygments_lexer": "ipython3",
   "version": "3.8.3"
  }
 },
 "nbformat": 4,
 "nbformat_minor": 4
}
