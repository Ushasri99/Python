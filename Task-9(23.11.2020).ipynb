{
 "cells": [
  {
   "cell_type": "markdown",
   "metadata": {},
   "source": [
    "Task-9"
   ]
  },
  {
   "cell_type": "code",
   "execution_count": 2,
   "metadata": {},
   "outputs": [
    {
     "name": "stdout",
     "output_type": "stream",
     "text": [
      "Enter First Number: 25\n",
      "Enter Second Number: 14\n",
      "Enter the operator you want to perform\n",
      "Enter any of these operator for operation 1, 2, 3, 4  1\n",
      "25 1 14 :  39\n"
     ]
    }
   ],
   "source": [
    "num1 = int(input(\"Enter First Number: \"))\n",
    "num2 = int(input(\"Enter Second Number: \"))\n",
    "print(\"Enter the operator you want to perform\");\n",
    "ch=input(\"Enter any of these operator for operation 1, 2, 3, 4  \")\n",
    "result=0\n",
    "if ch=='1':\n",
    "    result=num1+num2;\n",
    "elif ch=='2':\n",
    "    result=num1-num2;\n",
    "elif ch=='3':\n",
    "    result=num1*num2;\n",
    "elif ch=='4':\n",
    "    result=num1/num2;\n",
    "else:\n",
    "   print(\"char is not supported\");\n",
    "print(num1,ch,num2,\": \",result)"
   ]
  },
  {
   "cell_type": "code",
   "execution_count": null,
   "metadata": {},
   "outputs": [],
   "source": []
  }
 ],
 "metadata": {
  "kernelspec": {
   "display_name": "Python 3",
   "language": "python",
   "name": "python3"
  },
  "language_info": {
   "codemirror_mode": {
    "name": "ipython",
    "version": 3
   },
   "file_extension": ".py",
   "mimetype": "text/x-python",
   "name": "python",
   "nbconvert_exporter": "python",
   "pygments_lexer": "ipython3",
   "version": "3.8.3"
  }
 },
 "nbformat": 4,
 "nbformat_minor": 4
}
