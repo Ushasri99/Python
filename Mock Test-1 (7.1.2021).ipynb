{
 "cells": [
  {
   "cell_type": "markdown",
   "metadata": {},
   "source": [
    "1)Write a python function to accept user inputs, store it in a list and compute the highest number out of it."
   ]
  },
  {
   "cell_type": "code",
   "execution_count": 7,
   "metadata": {},
   "outputs": [],
   "source": [
    "def num(ele):\n",
    "    list=[]\n",
    "    try:\n",
    "        print(\"Enter required numbers:\\n\")\n",
    "        while True:\n",
    "            ele=int(input(\"Enter numbers :\"))\n",
    "            list.append(ele)\n",
    "    except(TypeError,ValueError):\n",
    "        print(\"only integers are allowed\")\n",
    "        \n",
    "    print(\"\\nEntered numbers by user is:\",list)\n",
    "    print(\"\\nThe highest number from given list is:\",max(list,default='null'))"
   ]
  },
  {
   "cell_type": "code",
   "execution_count": 8,
   "metadata": {},
   "outputs": [
    {
     "name": "stdout",
     "output_type": "stream",
     "text": [
      "Enter required numbers:\n",
      "\n",
      "Enter numbers :10\n",
      "Enter numbers :25\n",
      "Enter numbers :41\n",
      "Enter numbers :x\n",
      "only integers are allowed\n",
      "\n",
      "Entered numbers by user is: [10, 25, 41]\n",
      "\n",
      "The highest number from given list is: 41\n"
     ]
    }
   ],
   "source": [
    "list=[]\n",
    "num(list)"
   ]
  },
  {
   "cell_type": "code",
   "execution_count": null,
   "metadata": {},
   "outputs": [],
   "source": []
  },
  {
   "cell_type": "code",
   "execution_count": null,
   "metadata": {},
   "outputs": [],
   "source": []
  },
  {
   "cell_type": "code",
   "execution_count": null,
   "metadata": {},
   "outputs": [],
   "source": []
  }
 ],
 "metadata": {
  "kernelspec": {
   "display_name": "Python 3",
   "language": "python",
   "name": "python3"
  },
  "language_info": {
   "codemirror_mode": {
    "name": "ipython",
    "version": 3
   },
   "file_extension": ".py",
   "mimetype": "text/x-python",
   "name": "python",
   "nbconvert_exporter": "python",
   "pygments_lexer": "ipython3",
   "version": "3.8.3"
  }
 },
 "nbformat": 4,
 "nbformat_minor": 4
}
