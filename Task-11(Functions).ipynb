{
 "cells": [
  {
   "cell_type": "markdown",
   "metadata": {},
   "source": [
    "Task-11 (Functions)"
   ]
  },
  {
   "cell_type": "code",
   "execution_count": 5,
   "metadata": {},
   "outputs": [
    {
     "name": "stdout",
     "output_type": "stream",
     "text": [
      "please select operator\n",
      "1.addition\n",
      "2.subtraction\n",
      "3.multiplication\n",
      "4.divide\n",
      "Enter first number: 26\n",
      "Enter second number: 15\n",
      "Select operations form 1, 2, 3, 4 :1\n",
      "26 + 15 = 41\n"
     ]
    }
   ],
   "source": [
    "def add(num1,num2):\n",
    "    return num1 + num2 \n",
    "def sub(num1,num2):\n",
    "    return num1-num2\n",
    "def mult(num1,num2):\n",
    "    return num1*num2\n",
    "def divide(num1,num2): \n",
    "    return num1 / num2\n",
    "print(\"please select operator\")\n",
    "print(\"1.addition\")\n",
    "print(\"2.subtraction\")\n",
    "print(\"3.multiplication\")\n",
    "print(\"4.divide\")\n",
    "number_1 = int(input(\"Enter first number: \")) \n",
    "number_2 = int(input(\"Enter second number: \")) \n",
    "ch = int(input(\"Select operations form 1, 2, 3, 4 :\"))  \n",
    "result=0\n",
    "if ch == 1: \n",
    "    print(number_1, \"+\", number_2, \"=\", add(number_1, number_2)) \n",
    "  \n",
    "elif ch == 2: \n",
    "    print(number_1, \"-\", number_2, \"=\", sub(number_1, number_2)) \n",
    "  \n",
    "elif ch == 3: \n",
    "    print(number_1, \"*\", number_2, \"=\", mult(number_1, number_2)) \n",
    "    \n",
    "elif ch == 4: \n",
    "    print(number_1, \"/\", number_2, \"=\", divide(number_1, number_2)) \n",
    "else: \n",
    "    print(\"Invalid input\")"
   ]
  },
  {
   "cell_type": "code",
   "execution_count": null,
   "metadata": {},
   "outputs": [],
   "source": []
  }
 ],
 "metadata": {
  "kernelspec": {
   "display_name": "Python 3",
   "language": "python",
   "name": "python3"
  },
  "language_info": {
   "codemirror_mode": {
    "name": "ipython",
    "version": 3
   },
   "file_extension": ".py",
   "mimetype": "text/x-python",
   "name": "python",
   "nbconvert_exporter": "python",
   "pygments_lexer": "ipython3",
   "version": "3.8.3"
  }
 },
 "nbformat": 4,
 "nbformat_minor": 4
}
