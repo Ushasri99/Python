{
 "cells": [
  {
   "cell_type": "code",
   "execution_count": 1,
   "metadata": {},
   "outputs": [
    {
     "data": {
      "text/plain": [
       "True"
      ]
     },
     "execution_count": 1,
     "metadata": {},
     "output_type": "execute_result"
    }
   ],
   "source": [
    "#Task1\n",
    "str=\"welcome to my world\"\n",
    "\"to\" in str"
   ]
  },
  {
   "cell_type": "code",
   "execution_count": 3,
   "metadata": {},
   "outputs": [
    {
     "data": {
      "text/plain": [
       "False"
      ]
     },
     "execution_count": 3,
     "metadata": {},
     "output_type": "execute_result"
    }
   ],
   "source": [
    "a=\"Be Positive\"\n",
    "\"is\" in a"
   ]
  },
  {
   "cell_type": "code",
   "execution_count": 7,
   "metadata": {},
   "outputs": [
    {
     "name": "stdout",
     "output_type": "stream",
     "text": [
      "hello,and welcome to my world!\n"
     ]
    }
   ],
   "source": [
    "#Task2\n",
    "1#casefold() converts all upper case to lower case\n",
    "\n",
    "txt = \"Hello,AnD WelcoMe To My WoRld!\"\n",
    "x = txt.casefold()\n",
    "print(x)"
   ]
  },
  {
   "cell_type": "code",
   "execution_count": 8,
   "metadata": {},
   "outputs": [
    {
     "name": "stdout",
     "output_type": "stream",
     "text": [
      "      usha     \n"
     ]
    }
   ],
   "source": [
    "2#center() taking up the space \n",
    "txt=\"usha\"\n",
    "x=txt.center(15)\n",
    "print(x)"
   ]
  },
  {
   "cell_type": "code",
   "execution_count": 9,
   "metadata": {},
   "outputs": [
    {
     "name": "stdout",
     "output_type": "stream",
     "text": [
      "14\n"
     ]
    }
   ],
   "source": [
    "3#find() finds the text in the word , if the word doesnt exit in text it returns -1\n",
    "txt=\"welcome to my village\"\n",
    "x=txt.find(\"v\")\n",
    "print(x)"
   ]
  },
  {
   "cell_type": "code",
   "execution_count": 10,
   "metadata": {},
   "outputs": [
    {
     "name": "stdout",
     "output_type": "stream",
     "text": [
      "-1\n"
     ]
    }
   ],
   "source": [
    "txt=\"welcome to my village\"\n",
    "x=txt.find(\"b\")\n",
    "print(x)"
   ]
  },
  {
   "cell_type": "code",
   "execution_count": 21,
   "metadata": {},
   "outputs": [
    {
     "name": "stdout",
     "output_type": "stream",
     "text": [
      "True\n"
     ]
    }
   ],
   "source": [
    "4#isdigit() if all are digits it returns true,otherwise false\n",
    "txt='252310'\n",
    "print(txt.isdigit())"
   ]
  },
  {
   "cell_type": "code",
   "execution_count": 13,
   "metadata": {},
   "outputs": [
    {
     "name": "stdout",
     "output_type": "stream",
     "text": [
      "False\n"
     ]
    }
   ],
   "source": [
    "5#isalpha() if all are alphabet letters it returns true ,otherwise false\n",
    "str='Academy5251'\n",
    "a=str.isalpha()\n",
    "print(a)"
   ]
  },
  {
   "cell_type": "code",
   "execution_count": 17,
   "metadata": {},
   "outputs": [
    {
     "name": "stdout",
     "output_type": "stream",
     "text": [
      "False\n",
      "True\n"
     ]
    }
   ],
   "source": [
    "6#istitle()\n",
    "#returns True if all words in a text start with upper case letters,\n",
    "#&rest of the word are lower case letters, otherwise False.\"\"\"\n",
    "a=\"HELLO, AND WELCOME TO MY WORLD\"\n",
    "b=\"Name %@\"\n",
    "print(a.istitle())\n",
    "print(b.istitle())\n"
   ]
  },
  {
   "cell_type": "code",
   "execution_count": 19,
   "metadata": {},
   "outputs": [
    {
     "name": "stdout",
     "output_type": "stream",
     "text": [
      "there are 7 orange\n"
     ]
    }
   ],
   "source": [
    "7#replace()\n",
    "txt=\"there are 7 apples\"\n",
    "print(txt.replace('apples','orange'))"
   ]
  },
  {
   "cell_type": "code",
   "execution_count": 22,
   "metadata": {},
   "outputs": [
    {
     "name": "stdout",
     "output_type": "stream",
     "text": [
      "['welcome', 'to', 'class']\n"
     ]
    }
   ],
   "source": [
    "8#split()\n",
    "txt=\"welcome to class\"\n",
    "print(txt.split())"
   ]
  },
  {
   "cell_type": "code",
   "execution_count": 23,
   "metadata": {},
   "outputs": [
    {
     "name": "stdout",
     "output_type": "stream",
     "text": [
      "hAI mY nAmE IS uSHA sRI\n"
     ]
    }
   ],
   "source": [
    "9#swapcase()\n",
    "txt=\"Hai My NaMe is Usha Sri\"\n",
    "print(txt.swapcase())"
   ]
  },
  {
   "cell_type": "code",
   "execution_count": 25,
   "metadata": {},
   "outputs": [
    {
     "name": "stdout",
     "output_type": "stream",
     "text": [
      "True\n"
     ]
    }
   ],
   "source": [
    "10#startswith()\n",
    "str=\"welcome students\"\n",
    "print(str.startswith(\"w\"))"
   ]
  },
  {
   "cell_type": "code",
   "execution_count": 26,
   "metadata": {},
   "outputs": [
    {
     "name": "stdout",
     "output_type": "stream",
     "text": [
      "2\n"
     ]
    }
   ],
   "source": [
    "11#count()\n",
    "txt=\"i eat apples every day,because apples are my fav\"\n",
    "print(txt.count(\"apples\"))"
   ]
  },
  {
   "cell_type": "code",
   "execution_count": 28,
   "metadata": {},
   "outputs": [
    {
     "name": "stdout",
     "output_type": "stream",
     "text": [
      "H  e  l  l  o\n"
     ]
    }
   ],
   "source": [
    "12#expandtabs() sets the tab size to the specified number of whitespaces.\n",
    "txt = \"H\\te\\tl\\tl\\to\"\n",
    "print(txt.expandtabs(3))"
   ]
  },
  {
   "cell_type": "code",
   "execution_count": 29,
   "metadata": {},
   "outputs": [
    {
     "name": "stdout",
     "output_type": "stream",
     "text": [
      "this book is 20 rupees\n"
     ]
    }
   ],
   "source": [
    "13#format() \n",
    "txt=\"this book is {price} rupees\"\n",
    "print(txt.format(price=20))"
   ]
  },
  {
   "cell_type": "code",
   "execution_count": 33,
   "metadata": {},
   "outputs": [
    {
     "name": "stdout",
     "output_type": "stream",
     "text": [
      "6\n"
     ]
    }
   ],
   "source": [
    "14#index()\n",
    "str=\"Happy life\"\n",
    "print(str.index(\"life\"))"
   ]
  },
  {
   "cell_type": "code",
   "execution_count": null,
   "metadata": {},
   "outputs": [],
   "source": []
  }
 ],
 "metadata": {
  "kernelspec": {
   "display_name": "Python 3",
   "language": "python",
   "name": "python3"
  },
  "language_info": {
   "codemirror_mode": {
    "name": "ipython",
    "version": 3
   },
   "file_extension": ".py",
   "mimetype": "text/x-python",
   "name": "python",
   "nbconvert_exporter": "python",
   "pygments_lexer": "ipython3",
   "version": "3.8.3"
  }
 },
 "nbformat": 4,
 "nbformat_minor": 4
}
