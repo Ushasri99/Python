{
 "cells": [
  {
   "cell_type": "markdown",
   "metadata": {},
   "source": [
    "# 1) Write a function to remove duplicate values in a string. "
   ]
  },
  {
   "cell_type": "code",
   "execution_count": 1,
   "metadata": {},
   "outputs": [
    {
     "name": "stdout",
     "output_type": "stream",
     "text": [
      "Without Order =  gdo\n",
      "With Order =  god\n"
     ]
    }
   ],
   "source": [
    "from collections import OrderedDict \n",
    "def removeDupWithoutOrder(str): \n",
    "    return \"\".join(set(str)) \n",
    "def removeDupWithOrder(str): \n",
    "    return \"\".join(OrderedDict.fromkeys(str)) \n",
    "if __name__ == \"__main__\": \n",
    "    str = \"good\"\n",
    "    print (\"Without Order = \",removeDupWithoutOrder(str)) \n",
    "    print (\"With Order = \",removeDupWithOrder(str)) "
   ]
  },
  {
   "cell_type": "code",
   "execution_count": 2,
   "metadata": {},
   "outputs": [
    {
     "name": "stdout",
     "output_type": "stream",
     "text": [
      "Order =  Helo\n"
     ]
    }
   ],
   "source": [
    "from collections import OrderedDict \n",
    "def removeDupOrder(str): \n",
    "    return \"\".join(OrderedDict.fromkeys(str)) \n",
    "if __name__ == \"__main__\": \n",
    "    str = \"Hello\"\n",
    "    print (\"Order = \",removeDupWithOrder(str)) "
   ]
  },
  {
   "cell_type": "markdown",
   "metadata": {},
   "source": [
    "# 2) Write a function which takes a list as input and returns list in a reverse order\n"
   ]
  },
  {
   "cell_type": "code",
   "execution_count": 3,
   "metadata": {},
   "outputs": [
    {
     "data": {
      "text/plain": [
       "[6, 5, 4, 3, 1]"
      ]
     },
     "execution_count": 3,
     "metadata": {},
     "output_type": "execute_result"
    }
   ],
   "source": [
    "list=[1,3,4,5,6]\n",
    "list.reverse()\n",
    "list"
   ]
  },
  {
   "cell_type": "markdown",
   "metadata": {},
   "source": [
    "# 3) write a class which takes three inputs and returns the smallest and the largest number. "
   ]
  },
  {
   "cell_type": "code",
   "execution_count": null,
   "metadata": {},
   "outputs": [],
   "source": [
    "class largest_smallest:\n",
    "    def __init__(self,num1,num2,num3):\n",
    "        self.a=num1\n",
    "        self.b=num2\n",
    "        self.c=num3\n",
    "    def largest (self):\n",
    "        if(num1>num2) and (num1>num3):\n",
    "            largest=num1\n",
    "        elif(num2>num1) and (num2>num3):\n",
    "            largest =num2\n",
    "        else:\n",
    "            largest=num3\n",
    "        print(\"\\n The largest number is :\",largest)\n",
    "        \n",
    "    def smallest(self):\n",
    "        if (num1<num2) and (num1<num3):\n",
    "            smallest=num1\n",
    "        elif (num2<num1) and (num2<num3):\n",
    "            smallest=num2\n",
    "        else:\n",
    "            smallest=num3\n",
    "        print(\"\\n The smallest number is :\",smallest)\n",
    "\n",
    "num1=int(input(\"enter the number:\"))\n",
    "num2=int(input(\"enter the number:\"))\n",
    "num3=int(input(\"enter the number:\"))\n",
    "numbers=largest_smallest(num1,num2,num3)\n",
    "numbers.largest()\n",
    "numbers.smallest()      "
   ]
  },
  {
   "cell_type": "markdown",
   "metadata": {},
   "source": [
    "# 4) Write a class and method under it to perform squareRoot, cuberoot and Nth root of a number. "
   ]
  },
  {
   "cell_type": "code",
   "execution_count": 15,
   "metadata": {},
   "outputs": [
    {
     "name": "stdout",
     "output_type": "stream",
     "text": [
      "enter the required number:16\n",
      "enter the required root:4\n",
      "\n",
      "The 4th root of 16 is: 2.0\n"
     ]
    }
   ],
   "source": [
    "class root:\n",
    "    def __init__(self,num,n):\n",
    "        self.num=num\n",
    "        self.n=n\n",
    "    def squareroot(self):\n",
    "        result=num**(1/n)\n",
    "        print(f\"\\nThe squareroot of {num} is:\",result)\n",
    "    def cuberoot(self):\n",
    "        result=num**(1/n)\n",
    "        print(f\"\\nThe cuberoot of {num} is:\",result)\n",
    "    def nthroot(self):\n",
    "        result=num**(1/n)\n",
    "        print(f\"\\nThe {n}th root of {num} is:\",result)\n",
    "num=int(input(\"enter the required number:\"))\n",
    "n=int(input(\"enter the required root:\"))\n",
    "roots=root(num,n)\n",
    "if n==2:\n",
    "    roots.squareroot()\n",
    "elif n==3:\n",
    "    roots.cuberoot()\n",
    "elif n>=4:\n",
    "    roots.nthroot()\n"
   ]
  },
  {
   "cell_type": "code",
   "execution_count": null,
   "metadata": {},
   "outputs": [],
   "source": []
  }
 ],
 "metadata": {
  "kernelspec": {
   "display_name": "Python 3",
   "language": "python",
   "name": "python3"
  },
  "language_info": {
   "codemirror_mode": {
    "name": "ipython",
    "version": 3
   },
   "file_extension": ".py",
   "mimetype": "text/x-python",
   "name": "python",
   "nbconvert_exporter": "python",
   "pygments_lexer": "ipython3",
   "version": "3.8.3"
  }
 },
 "nbformat": 4,
 "nbformat_minor": 4
}
