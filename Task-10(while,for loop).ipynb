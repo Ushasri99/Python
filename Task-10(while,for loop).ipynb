{
 "cells": [
  {
   "cell_type": "markdown",
   "metadata": {},
   "source": [
    "Task-10"
   ]
  },
  {
   "cell_type": "code",
   "execution_count": 1,
   "metadata": {},
   "outputs": [
    {
     "name": "stdout",
     "output_type": "stream",
     "text": [
      "10\n",
      "9\n",
      "8\n",
      "7\n",
      "6\n",
      "5\n",
      "4\n",
      "3\n",
      "2\n",
      "1\n"
     ]
    }
   ],
   "source": [
    "#using while loop print numbers from 10to 1\n",
    "count=10\n",
    "while(count>0):\n",
    "    print(count)\n",
    "    count=count-1"
   ]
  },
  {
   "cell_type": "code",
   "execution_count": 7,
   "metadata": {},
   "outputs": [
    {
     "name": "stdout",
     "output_type": "stream",
     "text": [
      "name\n",
      "study\n",
      "place\n"
     ]
    }
   ],
   "source": [
    "#dictionaries using for loop\n",
    "dict ={\n",
    "    \"name\":\"usha\",\n",
    "    \"study\":\"mtech\",\n",
    "    \"place\":\"hyd\"\n",
    "}\n",
    "for i in dict:\n",
    "    print(i)   "
   ]
  },
  {
   "cell_type": "code",
   "execution_count": 9,
   "metadata": {},
   "outputs": [
    {
     "name": "stdout",
     "output_type": "stream",
     "text": [
      "name = usha\n",
      "study = mtech\n",
      "place = hyd\n"
     ]
    }
   ],
   "source": [
    "for i in dict:\n",
    "  print(i,\"=\",dict[i])"
   ]
  },
  {
   "cell_type": "code",
   "execution_count": 10,
   "metadata": {},
   "outputs": [
    {
     "name": "stdout",
     "output_type": "stream",
     "text": [
      "apple\n",
      "banana\n",
      "cherry\n"
     ]
    }
   ],
   "source": [
    "#tuple using for loop\n",
    "tuple = (\"apple\", \"banana\", \"cherry\")\n",
    "for x in tuple:\n",
    "  print(x)"
   ]
  },
  {
   "cell_type": "code",
   "execution_count": 14,
   "metadata": {},
   "outputs": [
    {
     "name": "stdout",
     "output_type": "stream",
     "text": [
      "dog\n",
      "monkey\n",
      "horse\n",
      "lion\n"
     ]
    }
   ],
   "source": [
    "#sets using for loop\n",
    "set={\"lion\",\"dog\",\"horse\",\"monkey\"}\n",
    "for x in set:\n",
    "    print(x)"
   ]
  },
  {
   "cell_type": "code",
   "execution_count": null,
   "metadata": {},
   "outputs": [],
   "source": []
  }
 ],
 "metadata": {
  "kernelspec": {
   "display_name": "Python 3",
   "language": "python",
   "name": "python3"
  },
  "language_info": {
   "codemirror_mode": {
    "name": "ipython",
    "version": 3
   },
   "file_extension": ".py",
   "mimetype": "text/x-python",
   "name": "python",
   "nbconvert_exporter": "python",
   "pygments_lexer": "ipython3",
   "version": "3.8.3"
  }
 },
 "nbformat": 4,
 "nbformat_minor": 4
}
